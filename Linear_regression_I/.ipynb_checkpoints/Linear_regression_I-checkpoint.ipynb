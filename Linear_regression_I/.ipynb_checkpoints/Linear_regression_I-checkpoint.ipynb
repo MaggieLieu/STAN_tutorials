{
 "cells": [
  {
   "cell_type": "code",
   "execution_count": 107,
   "metadata": {},
   "outputs": [],
   "source": [
    "import pystan\n",
    "%matplotlib inline\n",
    "import matplotlib.pyplot as plt\n",
    "import numpy as np\n",
    "import pandas as pd\n",
    "import seaborn as sns"
   ]
  },
  {
   "cell_type": "markdown",
   "metadata": {},
   "source": [
    "First we get the data"
   ]
  },
  {
   "cell_type": "code",
   "execution_count": 7,
   "metadata": {},
   "outputs": [],
   "source": [
    "iris = pd.read_csv('data.csv')"
   ]
  },
  {
   "cell_type": "code",
   "execution_count": 8,
   "metadata": {},
   "outputs": [
    {
     "data": {
      "text/html": [
       "<div>\n",
       "<style scoped>\n",
       "    .dataframe tbody tr th:only-of-type {\n",
       "        vertical-align: middle;\n",
       "    }\n",
       "\n",
       "    .dataframe tbody tr th {\n",
       "        vertical-align: top;\n",
       "    }\n",
       "\n",
       "    .dataframe thead th {\n",
       "        text-align: right;\n",
       "    }\n",
       "</style>\n",
       "<table border=\"1\" class=\"dataframe\">\n",
       "  <thead>\n",
       "    <tr style=\"text-align: right;\">\n",
       "      <th></th>\n",
       "      <th>Sepal.Length</th>\n",
       "      <th>Sepal.Width</th>\n",
       "      <th>Petal.Length</th>\n",
       "      <th>Petal.Width</th>\n",
       "      <th>Species</th>\n",
       "    </tr>\n",
       "  </thead>\n",
       "  <tbody>\n",
       "    <tr>\n",
       "      <th>0</th>\n",
       "      <td>5.1</td>\n",
       "      <td>3.5</td>\n",
       "      <td>1.4</td>\n",
       "      <td>0.2</td>\n",
       "      <td>setosa</td>\n",
       "    </tr>\n",
       "    <tr>\n",
       "      <th>1</th>\n",
       "      <td>4.9</td>\n",
       "      <td>3.0</td>\n",
       "      <td>1.4</td>\n",
       "      <td>0.2</td>\n",
       "      <td>setosa</td>\n",
       "    </tr>\n",
       "    <tr>\n",
       "      <th>2</th>\n",
       "      <td>4.7</td>\n",
       "      <td>3.2</td>\n",
       "      <td>1.3</td>\n",
       "      <td>0.2</td>\n",
       "      <td>setosa</td>\n",
       "    </tr>\n",
       "    <tr>\n",
       "      <th>3</th>\n",
       "      <td>4.6</td>\n",
       "      <td>3.1</td>\n",
       "      <td>1.5</td>\n",
       "      <td>0.2</td>\n",
       "      <td>setosa</td>\n",
       "    </tr>\n",
       "    <tr>\n",
       "      <th>4</th>\n",
       "      <td>5.0</td>\n",
       "      <td>3.6</td>\n",
       "      <td>1.4</td>\n",
       "      <td>0.2</td>\n",
       "      <td>setosa</td>\n",
       "    </tr>\n",
       "    <tr>\n",
       "      <th>...</th>\n",
       "      <td>...</td>\n",
       "      <td>...</td>\n",
       "      <td>...</td>\n",
       "      <td>...</td>\n",
       "      <td>...</td>\n",
       "    </tr>\n",
       "    <tr>\n",
       "      <th>145</th>\n",
       "      <td>6.7</td>\n",
       "      <td>3.0</td>\n",
       "      <td>5.2</td>\n",
       "      <td>2.3</td>\n",
       "      <td>virginica</td>\n",
       "    </tr>\n",
       "    <tr>\n",
       "      <th>146</th>\n",
       "      <td>6.3</td>\n",
       "      <td>2.5</td>\n",
       "      <td>5.0</td>\n",
       "      <td>1.9</td>\n",
       "      <td>virginica</td>\n",
       "    </tr>\n",
       "    <tr>\n",
       "      <th>147</th>\n",
       "      <td>6.5</td>\n",
       "      <td>3.0</td>\n",
       "      <td>5.2</td>\n",
       "      <td>2.0</td>\n",
       "      <td>virginica</td>\n",
       "    </tr>\n",
       "    <tr>\n",
       "      <th>148</th>\n",
       "      <td>6.2</td>\n",
       "      <td>3.4</td>\n",
       "      <td>5.4</td>\n",
       "      <td>2.3</td>\n",
       "      <td>virginica</td>\n",
       "    </tr>\n",
       "    <tr>\n",
       "      <th>149</th>\n",
       "      <td>5.9</td>\n",
       "      <td>3.0</td>\n",
       "      <td>5.1</td>\n",
       "      <td>1.8</td>\n",
       "      <td>virginica</td>\n",
       "    </tr>\n",
       "  </tbody>\n",
       "</table>\n",
       "<p>150 rows × 5 columns</p>\n",
       "</div>"
      ],
      "text/plain": [
       "     Sepal.Length  Sepal.Width  Petal.Length  Petal.Width    Species\n",
       "0             5.1          3.5           1.4          0.2     setosa\n",
       "1             4.9          3.0           1.4          0.2     setosa\n",
       "2             4.7          3.2           1.3          0.2     setosa\n",
       "3             4.6          3.1           1.5          0.2     setosa\n",
       "4             5.0          3.6           1.4          0.2     setosa\n",
       "..            ...          ...           ...          ...        ...\n",
       "145           6.7          3.0           5.2          2.3  virginica\n",
       "146           6.3          2.5           5.0          1.9  virginica\n",
       "147           6.5          3.0           5.2          2.0  virginica\n",
       "148           6.2          3.4           5.4          2.3  virginica\n",
       "149           5.9          3.0           5.1          1.8  virginica\n",
       "\n",
       "[150 rows x 5 columns]"
      ]
     },
     "execution_count": 8,
     "metadata": {},
     "output_type": "execute_result"
    }
   ],
   "source": [
    "iris"
   ]
  },
  {
   "cell_type": "code",
   "execution_count": 15,
   "metadata": {},
   "outputs": [],
   "source": [
    "versicolor = np.where(iris['Species'] == 'versicolor')[0]"
   ]
  },
  {
   "cell_type": "code",
   "execution_count": 23,
   "metadata": {},
   "outputs": [],
   "source": [
    "x = iris['Sepal.Length'][versicolor].to_numpy()\n",
    "y = iris['Petal.Length'][versicolor].to_numpy()"
   ]
  },
  {
   "cell_type": "code",
   "execution_count": 121,
   "metadata": {},
   "outputs": [],
   "source": [
    "data = {'N': np.size(x), 'x':x, 'y':y}"
   ]
  },
  {
   "cell_type": "markdown",
   "metadata": {},
   "source": [
    "compile model"
   ]
  },
  {
   "cell_type": "code",
   "execution_count": 27,
   "metadata": {},
   "outputs": [
    {
     "name": "stderr",
     "output_type": "stream",
     "text": [
      "INFO:pystan:COMPILING THE C++ CODE FOR MODEL anon_model_2d44bd4f54c09b431885375bdddc59d4 NOW.\n"
     ]
    }
   ],
   "source": [
    "sm = pystan.StanModel('model.stan')"
   ]
  },
  {
   "cell_type": "markdown",
   "metadata": {},
   "source": [
    "fit model with stan"
   ]
  },
  {
   "cell_type": "code",
   "execution_count": 122,
   "metadata": {},
   "outputs": [],
   "source": [
    "fit = sm.sampling(data=data)"
   ]
  },
  {
   "cell_type": "markdown",
   "metadata": {},
   "source": [
    "Print fit to screen"
   ]
  },
  {
   "cell_type": "code",
   "execution_count": 29,
   "metadata": {},
   "outputs": [
    {
     "name": "stdout",
     "output_type": "stream",
     "text": [
      "Inference for Stan model: anon_model_2d44bd4f54c09b431885375bdddc59d4.\n",
      "4 chains, each with iter=2000; warmup=1000; thin=1; \n",
      "post-warmup draws per chain=1000, total post-warmup draws=4000.\n",
      "\n",
      "            mean se_mean     sd   2.5%    25%    50%    75%  97.5%  n_eff   Rhat\n",
      "alpha       0.17    0.02    0.5  -0.88  -0.16   0.18   0.51   1.15    902    1.0\n",
      "beta        0.69  2.8e-3   0.08   0.52   0.63   0.69   0.74   0.86    894   1.01\n",
      "sigma       0.32  8.7e-4   0.03   0.26    0.3   0.32   0.34   0.39   1487    1.0\n",
      "y_sim[1]    4.99  5.6e-3   0.34   4.33   4.76   4.99   5.22    5.7   3742    1.0\n",
      "y_sim[2]    4.57  5.2e-3   0.33   3.92   4.35   4.57    4.8   5.21   4033    1.0\n",
      "y_sim[3]    4.93  5.7e-3   0.34   4.26   4.71   4.93   5.16    5.6   3555    1.0\n",
      "y_sim[4]    3.96  5.2e-3   0.33   3.31   3.74   3.96   4.19   4.59   3962    1.0\n",
      "y_sim[5]    4.64  5.3e-3   0.32   4.03   4.43   4.64   4.86   5.28   3700    1.0\n",
      "y_sim[6]    4.09  5.4e-3   0.33   3.45   3.87    4.1   4.31   4.73   3752    1.0\n",
      "y_sim[7]    4.51  5.3e-3   0.33   3.86   4.29   4.51   4.72   5.15   3857    1.0\n",
      "y_sim[8]    3.54  5.7e-3   0.34   2.86   3.31   3.54   3.77    4.2   3584    1.0\n",
      "y_sim[9]    4.71  5.3e-3   0.33   4.07    4.5   4.71   4.94   5.36   3939    1.0\n",
      "y_sim[10]   3.74  5.5e-3   0.33   3.09   3.52   3.75   3.97   4.39   3615    1.0\n",
      "y_sim[11]   3.61  5.9e-3   0.34   2.95   3.39   3.61   3.84   4.27   3277    1.0\n",
      "y_sim[12]   4.24  5.0e-3   0.32   3.61   4.03   4.24   4.45   4.86   4049    1.0\n",
      "y_sim[13]   4.31  5.1e-3   0.33   3.65    4.1   4.31   4.52   4.96   4153    1.0\n",
      "y_sim[14]   4.37  5.1e-3   0.33   3.74   4.16   4.37   4.59   5.02   4112    1.0\n",
      "y_sim[15]   4.03  5.5e-3   0.33   3.36   3.81   4.03   4.24   4.66   3493    1.0\n",
      "y_sim[16]   4.79  5.3e-3   0.33   4.15   4.56   4.79   5.01   5.47   3759    1.0\n",
      "y_sim[17]   4.04  5.1e-3   0.32    3.4   3.82   4.04   4.25   4.69   3945    1.0\n",
      "y_sim[18]   4.17  5.0e-3   0.33   3.52   3.95   4.17   4.39   4.82   4279    1.0\n",
      "y_sim[19]   4.44  5.2e-3   0.33   3.79   4.23   4.44   4.66   5.06   3986    1.0\n",
      "y_sim[20]   4.03  5.3e-3   0.33   3.39   3.81   4.03   4.25   4.71   3870    1.0\n",
      "y_sim[21]   4.23  5.1e-3   0.32   3.59   4.01   4.23   4.45   4.86   3936    1.0\n",
      "y_sim[22]   4.38  5.1e-3   0.33   3.72   4.16   4.38    4.6   5.01   4110    1.0\n",
      "y_sim[23]   4.51  5.4e-3   0.33   3.88   4.29   4.51   4.73   5.15   3700    1.0\n",
      "y_sim[24]   4.38  5.0e-3   0.32   3.76   4.17   4.38   4.58   5.01   4021    1.0\n",
      "y_sim[25]   4.58  5.4e-3   0.33   3.93   4.36   4.58    4.8   5.21   3707    1.0\n",
      "y_sim[26]   4.72  5.2e-3   0.33   4.06    4.5   4.72   4.95   5.36   3937    1.0\n",
      "y_sim[27]   4.86  5.4e-3   0.33   4.22   4.64   4.87   5.09   5.53   3826    1.0\n",
      "y_sim[28]   4.79  5.7e-3   0.33   4.13   4.56   4.79   5.02   5.43   3431    1.0\n",
      "y_sim[29]   4.31  5.1e-3   0.32   3.68    4.1   4.31   4.53   4.93   3964    1.0\n",
      "y_sim[30]    4.1  5.3e-3   0.32   3.47   3.89   4.09   4.31   4.77   3675    1.0\n",
      "y_sim[31]   3.97  5.2e-3   0.32   3.35   3.75   3.96   4.18   4.61   3913    1.0\n",
      "y_sim[32]   3.97  5.4e-3   0.33   3.34   3.75   3.96   4.18    4.6   3659    1.0\n",
      "y_sim[33]   4.17  5.2e-3   0.33   3.47   3.95   4.17   4.38   4.82   3997    1.0\n",
      "y_sim[34]   4.31  5.1e-3   0.32    3.7    4.1   4.32   4.52   4.95   4033    1.0\n",
      "y_sim[35]   3.89  5.1e-3   0.32   3.27   3.68    3.9   4.11   4.53   4006    1.0\n",
      "y_sim[36]   4.31  5.0e-3   0.32   3.66   4.09   4.31   4.52   4.95   4270    1.0\n",
      "y_sim[37]   4.78  5.2e-3   0.33   4.13   4.56   4.78    5.0   5.42   4083    1.0\n",
      "y_sim[38]   4.51  5.2e-3   0.33   3.88   4.29    4.5   4.73   5.14   3865    1.0\n",
      "y_sim[39]   4.03  5.2e-3   0.32   3.38   3.82   4.04   4.24   4.67   3908    1.0\n",
      "y_sim[40]   3.96  5.4e-3   0.33   3.27   3.74   3.96   4.18   4.61   3774    1.0\n",
      "y_sim[41]   3.96  5.2e-3   0.32   3.32   3.74   3.96   4.18    4.6   3848    1.0\n",
      "y_sim[42]   4.37  5.2e-3   0.32   3.74   4.15   4.36   4.58   5.01   3875    1.0\n",
      "y_sim[43]   4.17  5.0e-3   0.32   3.53   3.97   4.17   4.38   4.81   4083    1.0\n",
      "y_sim[44]   3.61  5.4e-3   0.33   2.96   3.39   3.62   3.83   4.26   3658    1.0\n",
      "y_sim[45]   4.03  5.3e-3   0.33   3.39   3.82   4.03   4.25   4.68   3877    1.0\n",
      "y_sim[46]    4.1  5.6e-3   0.32   3.48   3.88    4.1   4.31    4.7   3245    1.0\n",
      "y_sim[47]    4.1  5.0e-3   0.32   3.46   3.89   4.11   4.32   4.71   4169    1.0\n",
      "y_sim[48]   4.44  5.2e-3   0.33   3.82   4.22   4.44   4.65   5.09   3920    1.0\n",
      "y_sim[49]   3.68  5.6e-3   0.34   3.02   3.46   3.68   3.91   4.37   3702    1.0\n",
      "y_sim[50]   4.09  5.1e-3   0.32   3.44   3.88    4.1    4.3   4.72   3982    1.0\n",
      "lp__        31.5    0.04   1.28  28.11  30.95  31.84  32.43  32.93   1323    1.0\n",
      "\n",
      "Samples were drawn using NUTS at Mon Aug 10 17:39:56 2020.\n",
      "For each parameter, n_eff is a crude measure of effective sample size,\n",
      "and Rhat is the potential scale reduction factor on split chains (at \n",
      "convergence, Rhat=1).\n"
     ]
    }
   ],
   "source": [
    "print(fit)"
   ]
  },
  {
   "cell_type": "markdown",
   "metadata": {},
   "source": [
    "extract fitted parameters and plot them "
   ]
  },
  {
   "cell_type": "code",
   "execution_count": 40,
   "metadata": {},
   "outputs": [
    {
     "data": {
      "text/plain": [
       "[<matplotlib.lines.Line2D at 0x135c6ca20>]"
      ]
     },
     "execution_count": 40,
     "metadata": {},
     "output_type": "execute_result"
    },
    {
     "data": {
      "image/png": "[encoded data removed]",
      "text/plain": [
       "<Figure size 432x288 with 1 Axes>"
      ]
     },
     "metadata": {
      "needs_background": "light"
     },
     "output_type": "display_data"
    }
   ],
   "source": [
    "params = fit.extract()\n",
    "alpha = np.mean(params['alpha'])\n",
    "beta = np.mean(params['beta'])\n",
    "plt.plot(x,y,'.')\n",
    "xr=np.linspace(4,7.5,50)      # from 1 to 10, by 50\n",
    "plt.plot(xr, beta*xr + alpha)        # abline"
   ]
  },
  {
   "cell_type": "markdown",
   "metadata": {},
   "source": [
    "get and plot posterior intervals "
   ]
  },
  {
   "cell_type": "code",
   "execution_count": 98,
   "metadata": {},
   "outputs": [],
   "source": [
    "yCI=np.zeros((0,2))\n",
    "for xi in xr:\n",
    "    yCI = np.vstack((yCI,np.quantile(params['beta']*xi + params['alpha'], q=[0.05,0.95])))"
   ]
  },
  {
   "cell_type": "code",
   "execution_count": 105,
   "metadata": {},
   "outputs": [
    {
     "data": {
      "text/plain": [
       "[<matplotlib.lines.Line2D at 0x1367e39b0>]"
      ]
     },
     "execution_count": 105,
     "metadata": {},
     "output_type": "execute_result"
    },
    {
     "data": {
      "image/png": "[encoded data removed]",
      "text/plain": [
       "<Figure size 432x288 with 1 Axes>"
      ]
     },
     "metadata": {
      "needs_background": "light"
     },
     "output_type": "display_data"
    }
   ],
   "source": [
    "params = fit.extract()\n",
    "alpha = np.mean(params['alpha'])\n",
    "beta = np.mean(params['beta'])\n",
    "plt.plot(x,y,'.')\n",
    "xr=np.linspace(4,7.5,50)      # from 1 to 10, by 50\n",
    "plt.plot(xr, beta*xr + alpha)        # abline\n",
    "plt.plot(xr, yCI[:,0], c='r')\n",
    "plt.plot(xr, yCI[:,1], c='r')"
   ]
  },
  {
   "cell_type": "markdown",
   "metadata": {},
   "source": [
    "Use simulated data as a sanity check"
   ]
  },
  {
   "cell_type": "code",
   "execution_count": 118,
   "metadata": {},
   "outputs": [
    {
     "data": {
      "image/png": "[encoded data removed]",
      "text/plain": [
       "<Figure size 432x288 with 1 Axes>"
      ]
     },
     "metadata": {
      "needs_background": "light"
     },
     "output_type": "display_data"
    }
   ],
   "source": [
    "sns.distplot(y, hist=False)\n",
    "for i in np.arange(10):\n",
    "    sns.distplot(params['y_sim'][i,:], hist=False, color='r')"
   ]
  },
  {
   "cell_type": "markdown",
   "metadata": {},
   "source": [
    "re-run using simulated dataset"
   ]
  },
  {
   "cell_type": "code",
   "execution_count": 123,
   "metadata": {},
   "outputs": [],
   "source": [
    "y_new = params['y_sim'][20,:]\n",
    "data_new = {'N': np.size(x), 'x':x, 'y':y_new}"
   ]
  },
  {
   "cell_type": "code",
   "execution_count": 124,
   "metadata": {},
   "outputs": [],
   "source": [
    "fit_new = sm.sampling(data=data)"
   ]
  },
  {
   "cell_type": "markdown",
   "metadata": {},
   "source": [
    "plot posteriors of simulated and real data"
   ]
  },
  {
   "cell_type": "code",
   "execution_count": 127,
   "metadata": {},
   "outputs": [
    {
     "data": {
      "text/plain": [
       "<matplotlib.axes._subplots.AxesSubplot at 0x1376aa400>"
      ]
     },
     "execution_count": 127,
     "metadata": {},
     "output_type": "execute_result"
    },
    {
     "data": {
      "image/png": "[encoded data removed]",
      "text/plain": [
       "<Figure size 432x288 with 1 Axes>"
      ]
     },
     "metadata": {
      "needs_background": "light"
     },
     "output_type": "display_data"
    }
   ],
   "source": [
    "params_new = fit_new.extract()\n",
    "\n",
    "sns.distplot(params_new['alpha'], hist=False)\n",
    "sns.distplot(params['alpha'], hist=False)"
   ]
  },
  {
   "cell_type": "code",
   "execution_count": 128,
   "metadata": {},
   "outputs": [
    {
     "data": {
      "text/plain": [
       "<matplotlib.axes._subplots.AxesSubplot at 0x137be2ac8>"
      ]
     },
     "execution_count": 128,
     "metadata": {},
     "output_type": "execute_result"
    },
    {
     "data": {
      "image/png": "[encoded data removed]",
      "text/plain": [
       "<Figure size 432x288 with 1 Axes>"
      ]
     },
     "metadata": {
      "needs_background": "light"
     },
     "output_type": "display_data"
    }
   ],
   "source": [
    "sns.distplot(params_new['beta'], hist=False)\n",
    "sns.distplot(params['beta'], hist=False)"
   ]
  },
  {
   "cell_type": "code",
   "execution_count": null,
   "metadata": {},
   "outputs": [],
   "source": []
  }
 ],
 "metadata": {
  "kernelspec": {
   "display_name": "Python 3",
   "language": "python",
   "name": "python3"
  },
  "language_info": {
   "codemirror_mode": {
    "name": "ipython",
    "version": 3
   },
   "file_extension": ".py",
   "mimetype": "text/x-python",
   "name": "python",
   "nbconvert_exporter": "python",
   "pygments_lexer": "ipython3",
   "version": "3.7.3"
  }
 },
 "nbformat": 4,
 "nbformat_minor": 2
}
